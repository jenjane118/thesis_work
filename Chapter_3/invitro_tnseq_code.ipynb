{
 "cells": [
  {
   "cell_type": "markdown",
   "metadata": {},
   "source": [
    "# Tn-seq comparison of in vitro cultures of Mycobacterium tuberculosis and Mycobacterium bovis\n",
    "\n",
    "Author: Jennifer J. Stiens\n",
    "\n",
    "Code used in thesis chapter:\n",
    "2.1 Identifying different gene requirements among the members of the MTBC\n",
    "\n",
    "and publication: \n",
    "\n",
    "Gibson, A. J., Passmore, I. J., Faulkner, V., Xia, D., Nobeli, I., Stiens, J., Willcocks, S., Clark, T. G., Sobkowiak, B., Werling, D., Villarreal-Ramos, B., Wren, B. W., & Kendall, S. L. (2021). Probing Differences in Gene Essentiality Between the Human and Animal Adapted Lineages of the Mycobacterium tuberculosis Complex Using TnSeq. Frontiers in Veterinary Science, 8(December), 1–12. https://doi.org/10.3389/fvets.2021.760717"
   ]
  },
  {
   "cell_type": "markdown",
   "metadata": {},
   "source": [
    "Step 1: \n",
    "\n",
    "Quality control of tn-seq reads"
   ]
  },
  {
   "cell_type": "code",
   "execution_count": null,
   "metadata": {
    "vscode": {
     "languageId": "shellscript"
    }
   },
   "outputs": [],
   "source": [
    "#!/bin/bash\n",
    "\n",
    "# iterate_fastqc.sh\n",
    "# usage: bash iterate_fastqc.sh\n",
    "\n",
    "#PATH={path to fastqc software}\n",
    "\n",
    "FILES=*.fastq\n",
    "\n",
    "for file in $FILES\n",
    "do\n",
    "\tfilename=$(basename \"$file\")\n",
    "\tfilename=\"${filename%.*}\"\n",
    "\n",
    "\techo \"File on the loop: \t$filename\"\n",
    "\n",
    "\t#call fastQC quality analysis\n",
    "\t${PATH} ${file}\n",
    "\n",
    "\techo -e \"########################\\n\\n\"\n",
    "done\n"
   ]
  },
  {
   "cell_type": "markdown",
   "metadata": {},
   "source": [
    "Step 2:\n",
    "Create prot table for Mbovis (Mtb prot table available from TRANSIT)\n",
    "TPP to assign reads to TA sites and generate .wig files\n",
    "Look at statistics and examine distribution of insertions"
   ]
  },
  {
   "cell_type": "code",
   "execution_count": null,
   "metadata": {},
   "outputs": [],
   "source": [
    "# create prot-table for Mbovis from .gff file\n",
    "## try http:// if https:// URLs are not supported\n",
    "\n",
    "#BiocManager::install(\"rtracklayer\")  \n",
    "\n",
    "library(\"rtracklayer\")\n",
    "library(GenomicRanges)\n",
    "\n",
    "bovisTrack <- import(\"LT708304_updated_aug19.gff\")\n",
    "\n",
    "# use only relevant columns in dataframe\n",
    "# (keep locus tag b/c 'gene' features don't have note)\n",
    "bovis_df<-data.frame(descr = elementMetadata(bovisTrack)\n",
    "  [,c(\"gene\", \"type\", \"note\", \"product\", \"locus_tag\")],\n",
    "  start = start(bovisTrack),\n",
    "  end = end(bovisTrack), \n",
    "  strand = as.factor(strand(bovisTrack)))\n",
    "\n",
    "# parse mbovis_df and put in new dataframe \"prot_table\"\n",
    "\n",
    "prot_table <- data.frame(\n",
    "  matrix(NA, ncol=9, nrow=nrow(bovis_df)), \n",
    "  stringsAsFactors = FALSE)\n",
    "\n",
    "colnames(prot_table) <- c(\"PRODUCT\",\"START\", \"END\",\n",
    "                          \"STRAND\", \"AA_LEN\", \"TYPE\", \n",
    "                          \"GAP\", \"NAME\", \"ORF_ID\")\n",
    "\n",
    "for (i in 1:nrow(bovis_df)){\n",
    "  # product, gene name, ORF id and aa len must be parsed from column 9 ()\n",
    "  orf<-''\n",
    "  gene_name<-''\n",
    "  aa_len<-''\n",
    "  if (is.na(bovis_df$descr.note[i])){\n",
    "    note<-''\n",
    "  }\n",
    "  # if tRNA\n",
    "  else if (bovis_df$descr.type[i]==\"tRNA\"){\n",
    "    note<-unlist(strsplit(bovis_df[i,3],split = \",\"))\n",
    "    orf<-note[1]\n",
    "    gene_name <- note[1]\n",
    "\n",
    "  }\n",
    "  # if repeat region\n",
    "  else if (bovis_df$descr.type[i]==\"repeat_region\"){\n",
    "    note<-unlist(strsplit(bovis_df[i,3],split = \",\"))\n",
    "    orf<-note[1]\n",
    "    gene_name <- note[4]\n",
    "  }\n",
    "  else {\n",
    "    note<-unlist(strsplit(bovis_df[i,3],split = \",\"))\n",
    "    orf<-note[1]\n",
    "    gene_name<- note[2]\n",
    "    len<- substr(note[4], 7, nchar(note[4]))\n",
    "    # get only integers from len string:\n",
    "    x<- gregexpr(\"[0-9]+\", len)\n",
    "    aa_len <- as.numeric(unlist(regmatches(len, x)))\n",
    "    #aa_len<- data[grep(\"[0-9]+\", len),]\n",
    "    }\n",
    "  # product \n",
    "  if (!is.na(bovis_df$descr.product)[i]){\n",
    "    prot_table$PRODUCT[i]<-bovis_df[i,4]\n",
    "  }\n",
    "  # start and end\n",
    "  # make sure start and end in right order (could be switched?)\n",
    "  if (bovis_df[i,7]<bovis_df[i,6]){\n",
    "    prot_table$START[i]<-bovis_df[i,7]\n",
    "    prot_table$END[i]<-bovis_df[i,6]\n",
    "  } else {\n",
    "    prot_table$START[i]<-bovis_df[i,6]\n",
    "    prot_table$END[i]<-bovis_df[i,7]\n",
    "  }\n",
    "  \n",
    "  # strand\n",
    "  prot_table$STRAND[i]<-as.character(bovis_df$strand[i])\n",
    "\n",
    "  # type\n",
    "  if (!is.na(bovis_df$descr.type)[i]){\n",
    "    prot_table$TYPE[i]<-as.character(bovis_df$descr.type[i])\n",
    "  }\n",
    "  # GAP\n",
    "  prot_table$GAP[i]<-\"-\"\n",
    "  \n",
    "  # enter cells in dataframe if note is present:\n",
    "  if (length(note)>0){\n",
    "    # if type = Repeat, no aa len (nt length), \n",
    "    # in these is inputing '37' for aa_len (from H37Rv?)\n",
    "    # aa_length\n",
    "    if (length(aa_len)>0){\n",
    "      prot_table$AA_LEN[i]<-aa_len\n",
    "    }\n",
    "    # gene name\n",
    "    if (length(gene_name)>0){\n",
    "      prot_table$NAME[i]<-gene_name\n",
    "    }\n",
    "    # orf\n",
    "    if (length(orf)>0){\n",
    "      prot_table$ORF_ID[i]<-orf\n",
    "    }\n",
    "  }\n",
    "  # gene name if no note:\n",
    "  else if (length(bovis_df$descr.gene[i])>0){\n",
    "    prot_table$NAME[i]<-bovis_df$descr.gene[i]\n",
    "  }\n",
    "  # ORF id if no note (from locus-id)\n",
    "  else {\n",
    "    prot_table$ORF_ID[i] <- substr(bovis_df$descr.locus_tag[i], \n",
    "    8, \n",
    "    nchar(bovis_df$descr.locus_tag[i])\n",
    "    )\n",
    "  }\n",
    "}\n",
    "write.table( prot_table,\n",
    "            \"mbovis.prot_table\",\n",
    "            sep=\"\\t\", \n",
    "            col.names = F, \n",
    "            row.names = F, \n",
    "            quote = F\n",
    "            )\n"
   ]
  },
  {
   "cell_type": "code",
   "execution_count": null,
   "metadata": {
    "vscode": {
     "languageId": "shellscript"
    }
   },
   "outputs": [],
   "source": [
    "#!/bin/bash\n",
    "# module load python/v3\n",
    "\n",
    "PATH={path_to_tpp}\n",
    "BWA_PATH={path_to_bwa}\n",
    "FILES=*_1.fastq\n",
    "fasta={path_to_genome_fasta}\n",
    "\n",
    "for file in $FILES\n",
    "\n",
    "do\n",
    "        filename=$(basename \"$file\")\n",
    "        filename=\"${filename%.*}\"\n",
    "\n",
    "        echo \"File on the loop:         ${file}\"\n",
    "        \n",
    "        tpp -bwa ${BWA_PATH} -ref ${fasta} -reads1 ${file} -output tpp_results/${filename}\n",
    "\n",
    "\n",
    "done "
   ]
  },
  {
   "cell_type": "code",
   "execution_count": null,
   "metadata": {
    "vscode": {
     "languageId": "shellscript"
    }
   },
   "outputs": [],
   "source": [
    "#!/bin/bash\n",
    "\n",
    "# establish quality of tpp data with transit tnseq_stats\n",
    "# iterate_tnseq_stats.sh from inside file directory\n",
    "\n",
    "FILES=*.wig\n",
    "\n",
    "for file in $FILES\n",
    "do\n",
    "\n",
    "  filename=$(basename \"$file\")\n",
    "  filename=\"${filename%.*}\"\n",
    "\n",
    "  echo \"File on the loop: \t    ${filename}\"\n",
    "  echo \"File on the loop:       ${file}\"\n",
    "\n",
    "  transit tnseq_stats ${file} -o ${filename}.dat\n",
    "  \n",
    "  echo -e \"#####################################\\n\\n\"\n",
    "  \n",
    "done"
   ]
  },
  {
   "cell_type": "markdown",
   "metadata": {},
   "source": [
    "Step 3:\n",
    "\n",
    "Essentiality analysis using TRANSIT HMM"
   ]
  },
  {
   "cell_type": "code",
   "execution_count": null,
   "metadata": {
    "vscode": {
     "languageId": "shellscript"
    }
   },
   "outputs": [],
   "source": [
    "# make combined wig with 2 sub-libraries and no normalisation\n",
    "transit export combined_wig bovis_hiseq_tpp_21.wig,bovis_hiseq_tpp_19.wig mbovis.prot_table combo_19_21.wig -n nonorm\n",
    "# transit with hmm method and default TTR normalisation (sum because sparse datasets)\n",
    "transit hmm -r Sum add_19_21.wig mbovis.prot_table hmm_bovis_add_19_21.wig\n"
   ]
  },
  {
   "cell_type": "markdown",
   "metadata": {},
   "source": [
    "Essentiality analysis using Bio-Tradis (pipeline not appropriate for Himar1, so not used)"
   ]
  },
  {
   "cell_type": "code",
   "execution_count": null,
   "metadata": {
    "vscode": {
     "languageId": "shellscript"
    }
   },
   "outputs": [],
   "source": [
    "module load python/v3\n",
    "module load perl\n",
    "#filter and remove tradis tags with Bio-Tradis\n",
    "filter_tradis_tags -f  G_S3_L001_R1_001.fastq -t GTCTAGAGACCGGGGACTTATCAGCCAACCTGTTA -o G_S3.tag.fastq\n",
    "remove_tradis_tags -f G_S3.tag.fastq -t GTCTAGAGACCGGGGACTTATCAGCCAACCTGTTA -o G_S3.rmtag.fastq\n",
    "#assign to TA sites and calculate insertions (run in directory with fastqs)\n",
    "bacteria_tradis -v -m 0 -f bovis_fastqs.txt -r Mbovis_AF2122_97.fasta\n",
    "#determine essentiality calls\n",
    "tradis_essentiality.R joined_output.m_bovis_BDG.csv"
   ]
  },
  {
   "cell_type": "markdown",
   "metadata": {},
   "source": [
    "## Step 4\n",
    "\n",
    "Resampling analysis using TRANSIT\n",
    "Compares change in mean read count in genes between two datasets using custom prot table that compares only reciprocal blast/positionally homologous orthologs between two lineages with the same (+/- 1) number of TA sites. Bovis coordinates used with TB gene names to identify orthologs\n"
   ]
  },
  {
   "cell_type": "code",
   "execution_count": null,
   "metadata": {
    "vscode": {
     "languageId": "shellscript"
    }
   },
   "outputs": [
    {
     "ename": "",
     "evalue": "",
     "output_type": "error",
     "traceback": [
      "\u001b[1;31mRunning cells with 'tnseq' requires the ipykernel package.\n",
      "\u001b[1;31mRun the following command to install 'ipykernel' into the Python environment. \n",
      "\u001b[1;31mCommand: 'conda install -n tnseq ipykernel --update-deps --force-reinstall'"
     ]
    }
   ],
   "source": [
    "#resampling between mtb and mbovis\n",
    "\n",
    "#use bovis on tb prot table which has bovis coordinates with tb names\n",
    "#will show change between tb insertions to bovis insertions\n",
    "\n",
    "cd ~/tn_seq/in_vitro_data\n",
    "#!transit resampling in_vitro_data/perm_add_22_23.wig in_vitro_data/perm_add_19_21.wig in_vitro_data/mtbH37Rv.prot_table,in_vitro_data/bovis_on_tb_orthos.prot_table in_vitro_data/resampling_061123/bovis_on_tb_resamp_out.txt\n",
    "\n",
    "#transit resampling perm_add_22_23.wig perm_add_19_21.wig mtbH37Rv.prot_table,bovis_on_tb_orthos.prot_table resampling_061123/bovis_on_tb_resamp_out_winz.txt -winz -PC 5\n",
    "#transit resampling add_19_21.wig add_22_23.wig bovis_best.prot_table,tb_on_bovis.prot_table tb_on_bovis_resampling_output.txt\n",
    "\n",
    "# with finding mean between reps instead of sum\n",
    "transit resampling mtb_hiseq/TPP/mtb22_hiseq_tpp.wig,mtb_hiseq/TPP/mtb23_hiseq_tpp.wig bovis_hiseq/tpp/bovis_hiseq_tpp_19.wig,bovis_hiseq/tpp/bovis_hiseq_tpp_21.wig mtbH37Rv.prot_table,bovis_on_tb_orthos.prot_table resampling_061123/bovis_on_tb_resamp_mean_winz.txt -winz -PC 5 -s 100000\n"
   ]
  },
  {
   "cell_type": "markdown",
   "metadata": {},
   "source": [
    "Calculate mutational frequency of every TA site \n",
    "\n",
    "MF = insertion count at TA site / total insertion count\n",
    "\n",
    "normalise data first with TTR\n",
    "\n",
    "add pseudocount of 1 to each ta site (and to total ta sites) to avoid division by zero"
   ]
  },
  {
   "cell_type": "code",
   "execution_count": null,
   "metadata": {
    "vscode": {
     "languageId": "shellscript"
    }
   },
   "outputs": [],
   "source": [
    "# make combined wig with 2 sub-libraries and TTR norm\n",
    "!transit export combined_wig in_vitro_data/bovis_hiseq/tpp/bovis_hiseq_tpp_21.wig,in_vitro_data/bovis_hiseq/tpp/bovis_hiseq_tpp_19.wig ref_seqs/bovis_best.prot_table in_vitro_data/mf_analysis/norm_TTR_19_21.wig -n TTR\n",
    "!transit export combined_wig in_vitro_data/mtb_hiseq/TPP/mtb22_hiseq_tpp.wig,in_vitro_data/mtb_hiseq/TPP/mtb23_hiseq_tpp.wig ref_seqs/Mtb_AL123456_3.prot_table in_vitro_data/mf_analysis/norm_TTR_2_23.wig -n TTR\n"
   ]
  },
  {
   "cell_type": "code",
   "execution_count": 5,
   "metadata": {},
   "outputs": [
    {
     "name": "stdout",
     "output_type": "stream",
     "text": [
      "22848092.3\n",
      "18915296.9\n",
      "1.207916133740412\n"
     ]
    }
   ],
   "source": [
    "# import with pandas and create columns for MF\n",
    "\n",
    "import pandas as pd\n",
    "import os\n",
    "\n",
    "#read in wig file for bovis\n",
    "df = pd.read_csv('~/tn_seq/in_vitro_data/mf_analysis/norm_TTR_19_21.wig', sep='\\t', header=None, comment = \"#\")\n",
    "#add column names\n",
    "df.columns = ['bovis_ta_site', 'wig_21', 'wig_19', 'bovis_orf']\n",
    "#sum of insertions at each site\n",
    "df['mb_sum_ins'] = df['wig_21'] + df['wig_19']\n",
    "#mean of insertions at each site\n",
    "df['mb_mean_ins'] = df['mb_sum_ins']/2\n",
    "#calculate total insertions for each dataset\n",
    "#ins_19 = df['wig_19'].sum()\n",
    "#ins_21 = df['wig_21'].sum()\n",
    "total_ins_bovis = df['mb_sum_ins'].sum() + len(df)\n",
    "print(total_ins_bovis)\n",
    "\n",
    "#read in wig file for mtb\n",
    "df2 = pd.read_csv('~/tn_seq/in_vitro_data/mf_analysis/norm_TTR_22_23.wig', sep='\\t', header=None, comment = \"#\")\n",
    "#add column names   \n",
    "df2.columns = ['tb_ta_site', 'wig_22', 'wig_23', 'tb_orf']\n",
    "#sum of insertions at each site\n",
    "df2['tb_sum_ins'] = df2['wig_22'] + df2['wig_23']\n",
    "total_ins_tb = df2['tb_sum_ins'].sum() + len(df2)\n",
    "print(total_ins_tb)\n",
    "\n",
    "ps_count_mb = total_ins_bovis/total_ins_tb\n",
    "print(ps_count_mb)\n",
    "\n",
    "#total_mean_ins = df['mean_ins'].sum()\n",
    "#add one to each ta site to avoid zeros, (also add total number of ta sites to total_insertions)\n",
    "df['mb_mf'] = ((df['mb_sum_ins'] + ps_count_mb) /total_ins_bovis) * 100\n",
    "#calculate mf for each dataset and for summed insertions\n",
    "#df['mb_mf'] = (df['mb_sum_ins'] /total_ins) * 100\n",
    "#df['mf_21'] = df['wig_21']/ins_21\n",
    "#df['mf_19'] = df['wig_19']/ins_19\n",
    "#df['mf_mean'] = df['mean_ins']/total_mean_ins\n",
    "#save to csv\n",
    "df.to_csv('~/tn_seq/in_vitro_data/mf_analysis/bovis_mf.csv', index=False)\n",
    "\n",
    "\n",
    "#mean of insertions at each site for tb\n",
    "df2['tb_mean_ins'] = df2['tb_sum_ins']/2\n",
    "#calculate mf from sum of insertions\n",
    "df2['tb_mf'] = ((df2['tb_sum_ins'] + 1) /total_ins_tb) * 100\n",
    "#save to csv\n",
    "df2.to_csv('~/tn_seq/in_vitro_data/mf_analysis/mtb_mf.csv', index=False)"
   ]
  },
  {
   "cell_type": "markdown",
   "metadata": {},
   "source": [
    "the pseudocount needs to be relative to the total insertion count. use ratio of bovis insertions/tb insertions as pseudocount to get readings at zero insertions equal\n",
    "\n",
    "\n",
    "\n",
    "Compare log fold change in mutational frequency between two genomes. need to re-map ta sites from one genome to the other--using whole genome alignment?\n",
    "\n",
    "alternative just gather for coding genes and compare TA sites within the coding gene can use gene names by ta sites and list of orthologs"
   ]
  },
  {
   "cell_type": "code",
   "execution_count": 7,
   "metadata": {},
   "outputs": [
    {
     "name": "stdout",
     "output_type": "stream",
     "text": [
      "  bovis_orf  tb_orf  bovis_ta_site  mb_sum_ins  mb_mean_ins     mb_mf   \n",
      "0    Mb0001  Rv0001           60.0         0.0          0.0  0.000005  \\\n",
      "1    Mb0001  Rv0001           72.0         0.0          0.0  0.000005   \n",
      "2    Mb0001  Rv0001          102.0         0.0          0.0  0.000005   \n",
      "3    Mb0001  Rv0001          188.0         0.0          0.0  0.000005   \n",
      "4    Mb0001  Rv0001          246.0         0.0          0.0  0.000005   \n",
      "\n",
      "  ordered_ta_site  tb_ta_site  tb_sum_ins  tb_mean_ins     tb_mf  \n",
      "0             1.0        60.0         0.0          0.0  0.000005  \n",
      "1             2.0        72.0         0.0          0.0  0.000005  \n",
      "2             3.0       102.0         0.0          0.0  0.000005  \n",
      "3             4.0       188.0         0.0          0.0  0.000005  \n",
      "4             5.0       246.0         0.0          0.0  0.000005  \n"
     ]
    }
   ],
   "source": [
    "#gene focussed analysis\n",
    "#import gene name df\n",
    "import pandas as pd\n",
    "gene_names = pd.read_csv('~/tn_seq/in_vitro_data/mf_analysis/ortho_gene_names.csv', sep=',', header=0, comment = \"#\")\n",
    "\n",
    "#remove extraneous gene names in mf spreadsheets\n",
    "bovis_df = pd.read_csv('~/tn_seq/in_vitro_data/mf_analysis/bovis_mf.csv', sep=',', header=0)\n",
    "tb_df = pd.read_csv('~/tn_seq/in_vitro_data/mf_analysis/mtb_mf.csv', sep=',', header=0)\n",
    "bovis_df['bovis_orf'] = bovis_df['bovis_orf'].str.split(' ').str[0]\n",
    "tb_df['tb_orf'] = tb_df['tb_orf'].str.split(' ').str[0]\n",
    "\n",
    "#number the ta sites inside each gene\n",
    "bovis_df[\"ordered_ta_site\"] = bovis_df.groupby(\"bovis_orf\").cumcount().add(1).astype(str)\n",
    "tb_df[\"ordered_ta_site\"] = tb_df.groupby(\"tb_orf\").cumcount().add(1).astype(str)\n",
    "\n",
    "#remove cols for individual wig files\n",
    "bovis_df = bovis_df.drop(['wig_21', 'wig_19'], axis=1)\n",
    "tb_df = tb_df.drop(['wig_22', 'wig_23'], axis=1)\n",
    "\n",
    "#merge gene names with mf spreadsheets (only orthologs)\n",
    "bovis_mf = pd.merge(gene_names, bovis_df, on='bovis_orf', how='left')\n",
    "#print(bovis_mf.head())\n",
    "#print(tb_df.head())\n",
    "\n",
    "\n",
    "together_mf = pd.merge(bovis_mf, tb_df, left_on=('tb_orf', \"ordered_ta_site\"), right_on=('tb_orf', \"ordered_ta_site\"), how='left')\n",
    "print(together_mf.head())\n",
    "#complete_mf.to_csv('~/tn_seq/in_vitro_data/mf_analysis/together_mf.csv', index=False)"
   ]
  },
  {
   "cell_type": "code",
   "execution_count": null,
   "metadata": {},
   "outputs": [],
   "source": [
    "# #find change in mf between datasets at each ta site\n",
    "# import numpy as np\n",
    "# complete_mf['mf_change'] = complete_mf['tb_mf'] - complete_mf['mb_mf']\n",
    "# complete_mf['log2_mf_change'] = np.log2(abs(complete_mf['mf_change']))\n",
    "# #change -inf to NA\n",
    "# complete_mf['log2_mf_change'] = complete_mf['log2_mf_change'].replace(-np.inf, np.nan)\n",
    "# #add column to indicate direction of change\n",
    "# conditions = [ complete_mf['mf_change'] > 0, complete_mf['mf_change'] < 0, complete_mf['mf_change'] == 0 ]\n",
    "# choices = [ 'up_tb', 'up_mb', 'no_change' ]\n",
    "# complete_mf[\"change\"] = np.select(conditions, choices, default=np.nan)\n",
    "# print(complete_mf.loc[75:80,])\n",
    "# complete_mf.to_csv('~/tn_seq/in_vitro_data/mf_analysis/complete_mf.csv', index=False)"
   ]
  },
  {
   "cell_type": "code",
   "execution_count": 8,
   "metadata": {},
   "outputs": [
    {
     "name": "stdout",
     "output_type": "stream",
     "text": [
      "   bovis_orf  tb_orf  bovis_ta_site  mb_sum_ins  mb_mean_ins     mb_mf   \n",
      "75    Mb0003  Rv0003         3591.0         0.0         0.00  0.000005  \\\n",
      "76    Mb0003  Rv0003         3682.0         0.0         0.00  0.000005   \n",
      "77    Mb0003  Rv0003         3708.0       505.3       252.65  0.002217   \n",
      "78    Mb0003  Rv0003         3728.0         0.0         0.00  0.000005   \n",
      "79    Mb0003  Rv0003         3739.0         8.7         4.35  0.000043   \n",
      "80    Mb0003  Rv0003         3770.0         5.2         2.60  0.000028   \n",
      "\n",
      "   ordered_ta_site  tb_ta_site  tb_sum_ins  tb_mean_ins     tb_mf tb_hmm_call   \n",
      "75            13.0      3591.0         0.0         0.00  0.000005          NE  \\\n",
      "76            14.0      3682.0         0.0         0.00  0.000005          NE   \n",
      "77            15.0      3708.0        97.1        48.55  0.000519          NE   \n",
      "78            16.0      3728.0         0.0         0.00  0.000005          NE   \n",
      "79            17.0      3739.0         0.0         0.00  0.000005          NE   \n",
      "80            18.0      3770.0         0.0         0.00  0.000005          NE   \n",
      "\n",
      "   bovis_hmm_call  \n",
      "75             GD  \n",
      "76             GD  \n",
      "77             NE  \n",
      "78             GD  \n",
      "79             GD  \n",
      "80             GD  \n"
     ]
    }
   ],
   "source": [
    "# add in the transit hmm calls for each ta site\n",
    "import pandas as pd\n",
    "tb_calls = pd.read_csv(\"~/tn_seq/in_vitro_data/hmm_mtb_add_22_23.wig\", sep=\"\\t\", comment=\"#\", header=None, usecols=[0,6,7])\n",
    "tb_calls.columns = ['tb_ta_site', 'tb_hmm_call', 'tb_orf']\n",
    "tb_calls['tb_orf'] = tb_calls['tb_orf'].str.split('_').str[0]\n",
    "bovis_calls = pd.read_csv(\"~/tn_seq/in_vitro_data/hmm_bovis_new_add_19_21.wig\", sep=\"\\t\", comment=\"#\", header=None, usecols=[0,6,7])\n",
    "bovis_calls.columns = ['bovis_ta_site', 'bovis_hmm_call', 'bovis_orf']\n",
    "bovis_calls['bovis_orf'] = bovis_calls['bovis_orf'].str.split('_').str[0]\n",
    "bovis_calls['bovis_orf'] = bovis_calls['bovis_orf'].str.replace('MB', 'Mb')\n",
    "#print(bovis_calls.head())\n",
    "\n",
    "#merge with complete mf df\n",
    "complete_mf = pd.merge(together_mf, tb_calls, on=('tb_orf', \"tb_ta_site\"), how='left')\n",
    "complete_mf = pd.merge(complete_mf, bovis_calls, on=('bovis_orf', \"bovis_ta_site\"), how='left')\n",
    "print(complete_mf.loc[75:80,])\n"
   ]
  },
  {
   "cell_type": "code",
   "execution_count": 9,
   "metadata": {},
   "outputs": [],
   "source": [
    "\n",
    "orig_cols = list(complete_mf.columns.values)\n",
    "#print(orig_cols)\n",
    "#print(complete_mf.shape)\n",
    "new_cols = ['bovis_orf', 'tb_orf', 'bovis_ta_site', 'tb_ta_site', 'ordered_ta_site', 'bovis_hmm_call', 'tb_hmm_call', 'mb_sum_ins', 'tb_sum_ins', 'mb_mf', 'tb_mf']\n",
    "new_complete_mf = complete_mf[new_cols]\n",
    "#print(new_complete_mf.head(10))\n",
    "#print(new_complete_mf.shape)\n",
    "new_complete_mf.to_csv('~/tn_seq/in_vitro_data/mf_analysis/complete_mf.csv', index=False)"
   ]
  },
  {
   "cell_type": "code",
   "execution_count": 11,
   "metadata": {},
   "outputs": [
    {
     "name": "stdout",
     "output_type": "stream",
     "text": [
      "   bovis_orf  tb_orf  bovis_ta_site  tb_ta_site ordered_ta_site   \n",
      "75    Mb0003  Rv0003         3591.0      3591.0            13.0  \\\n",
      "76    Mb0003  Rv0003         3682.0      3682.0            14.0   \n",
      "77    Mb0003  Rv0003         3708.0      3708.0            15.0   \n",
      "78    Mb0003  Rv0003         3728.0      3728.0            16.0   \n",
      "79    Mb0003  Rv0003         3739.0      3739.0            17.0   \n",
      "80    Mb0003  Rv0003         3770.0      3770.0            18.0   \n",
      "\n",
      "   bovis_hmm_call tb_hmm_call  mb_sum_ins  tb_sum_ins     mb_mf     tb_mf   \n",
      "75             GD          NE         0.0         0.0  0.000005  0.000005  \\\n",
      "76             GD          NE         0.0         0.0  0.000005  0.000005   \n",
      "77             NE          NE       505.3        97.1  0.002217  0.000519   \n",
      "78             GD          NE         0.0         0.0  0.000005  0.000005   \n",
      "79             GD          NE         8.7         0.0  0.000043  0.000005   \n",
      "80             GD          NE         5.2         0.0  0.000028  0.000005   \n",
      "\n",
      "    fold_change  log2_change  \n",
      "75     1.000000     0.000000  \n",
      "76     1.000000     0.000000  \n",
      "77     4.274452     2.095739  \n",
      "78     1.000000     0.000000  \n",
      "79     8.202487     3.036061  \n",
      "80     5.304935     2.407335  \n"
     ]
    }
   ],
   "source": [
    "# #find change in mf between datasets at each ta site\n",
    "import numpy as np\n",
    "#copy complete mf df\n",
    "change_mf = new_complete_mf.copy()\n",
    "#add pseudocount of 1 to each mf value to avoid -inf\n",
    "change_mf['fold_change'] = (new_complete_mf['mb_mf']  /(new_complete_mf['tb_mf'] ))\n",
    "change_mf['log2_change'] = np.log2(change_mf['fold_change'])\n",
    "#np.log2(new_complete_mf['tb_mf']) - np.log2(new_complete_mf['mb_mf'])\n",
    "#change NaN to 0\n",
    "#new_complete_mf['log2_change'] = new_complete_mf['log2_change'].replace(np.nan, 0)\n",
    "print(change_mf.loc[75:80,])\n",
    "change_mf.to_csv('~/tn_seq/in_vitro_data/mf_analysis/change_mf.csv', index=False)"
   ]
  },
  {
   "cell_type": "markdown",
   "metadata": {},
   "source": [
    "## Run TRANSIT backwards for Mtb to compare the calls"
   ]
  },
  {
   "cell_type": "code",
   "execution_count": 1,
   "metadata": {},
   "outputs": [
    {
     "ename": "SyntaxError",
     "evalue": "invalid syntax (774125934.py, line 4)",
     "output_type": "error",
     "traceback": [
      "\u001b[0;36m  Cell \u001b[0;32mIn[1], line 4\u001b[0;36m\u001b[0m\n\u001b[0;31m    transit hmm -r Sum reverse_transit/add_22_23_rev.wig Mtb_AL123456_3.prot_table reverse_transit/hmm_rev_tb_add_22_23.wig\u001b[0m\n\u001b[0m            ^\u001b[0m\n\u001b[0;31mSyntaxError\u001b[0m\u001b[0;31m:\u001b[0m invalid syntax\n"
     ]
    }
   ],
   "source": [
    "#reverse the TA sites for the wig files for mtb\n",
    "# transit with hmm method and default TTR normalisation (sum because sparse datasets) and reverse TA sites\n",
    "#using same prot table but all TA sites in reverse order in wig file\n",
    "transit hmm -r Sum add_22_23.wig Mtb_AL123456_3.prot_table reverse_transit/hmm_fwd_tb_add_22_23.wig\n",
    "transit hmm -r Sum reverse_transit/add_22_23_rev.wig Mtb_AL123456_3.prot_table reverse_transit/hmm_rev_tb_add_22_23.wig\n"
   ]
  }
 ],
 "metadata": {
  "kernelspec": {
   "display_name": "tnseq",
   "language": "python",
   "name": "python3"
  },
  "language_info": {
   "codemirror_mode": {
    "name": "ipython",
    "version": 3
   },
   "file_extension": ".py",
   "mimetype": "text/x-python",
   "name": "python",
   "nbconvert_exporter": "python",
   "pygments_lexer": "ipython3",
   "version": "3.9.13"
  },
  "orig_nbformat": 4
 },
 "nbformat": 4,
 "nbformat_minor": 2
}
